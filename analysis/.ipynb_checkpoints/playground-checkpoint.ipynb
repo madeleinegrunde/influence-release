{
 "cells": [
  {
   "cell_type": "code",
   "execution_count": null,
   "id": "fd1df63f",
   "metadata": {},
   "outputs": [],
   "source": [
    "from utils import vis, data_funcs"
   ]
  },
  {
   "cell_type": "code",
   "execution_count": null,
   "id": "bead9828",
   "metadata": {},
   "outputs": [],
   "source": [
    "file1 = 'tenth-0'\n",
    "file2 = 'tenth-3'"
   ]
  },
  {
   "cell_type": "code",
   "execution_count": null,
   "id": "caa7348a",
   "metadata": {},
   "outputs": [],
   "source": [
    "data = data_funcs.getQQplotData(file1, file2, idx_range=9, only_extremes=True)"
   ]
  },
  {
   "cell_type": "code",
   "execution_count": null,
   "id": "4e7c7573",
   "metadata": {},
   "outputs": [],
   "source": [
    "cfgs = vis.getConfigs(size=10, qq=True)\n",
    "\n",
    "vis.graph('qq', data, cfgs)"
   ]
  },
  {
   "cell_type": "code",
   "execution_count": null,
   "id": "d65771a2",
   "metadata": {},
   "outputs": [],
   "source": [
    "vis.graph('hist', data[0][0])"
   ]
  }
 ],
 "metadata": {
  "kernelspec": {
   "display_name": "Python 3 (ipykernel)",
   "language": "python",
   "name": "python3"
  },
  "language_info": {
   "codemirror_mode": {
    "name": "ipython",
    "version": 3
   },
   "file_extension": ".py",
   "mimetype": "text/x-python",
   "name": "python",
   "nbconvert_exporter": "python",
   "pygments_lexer": "ipython3",
   "version": "3.8.13"
  }
 },
 "nbformat": 4,
 "nbformat_minor": 5
}
